{
 "cells": [
  {
   "cell_type": "code",
   "execution_count": null,
   "metadata": {},
   "outputs": [],
   "source": [
    "# This mounts your Google Drive to the Colab VM.\n",
    "from google.colab import drive\n",
    "drive.mount('/content/drive', force_remount=True)\n",
    "\n",
    "# Enter the foldername in your Drive where you have saved the unzipped\n",
    "# assignment folder, e.g. 'cs231n/assignments/assignment1/'\n",
    "FOLDERNAME = None\n",
    "assert FOLDERNAME is not None, \"[!] Enter the foldername.\"\n",
    "\n",
    "# Now that we've mounted your Drive, this ensures that\n",
    "# the Python interpreter of the Colab VM can load\n",
    "# python files from within it.\n",
    "import sys\n",
    "sys.path.append('/content/drive/My Drive/{}'.format(FOLDERNAME))\n",
    "\n",
    "# This downloads the CIFAR-10 dataset to your Drive\n",
    "# if it doesn't already exist.\n",
    "%cd drive/My\\ Drive/$FOLDERNAME/cs231n/datasets/\n",
    "!bash get_datasets.sh\n",
    "%cd /content/drive/My\\ Drive/$FOLDERNAME"
   ]
  },
  {
   "cell_type": "markdown",
   "metadata": {
    "tags": [
     "pdf-title"
    ]
   },
   "source": [
    "# Softmax exercise\n",
    "\n",
    "*Complete and hand in this completed worksheet (including its outputs and any supporting code outside of the worksheet) with your assignment submission. For more details see the [assignments page](http://vision.stanford.edu/teaching/cs231n/assignments.html) on the course website.*\n",
    "\n",
    "This exercise is analogous to the SVM exercise. You will:\n",
    "\n",
    "- implement a fully-vectorized **loss function** for the Softmax classifier\n",
    "- implement the fully-vectorized expression for its **analytic gradient**\n",
    "- **check your implementation** with numerical gradient\n",
    "- use a validation set to **tune the learning rate and regularization** strength\n",
    "- **optimize** the loss function with **SGD**\n",
    "- **visualize** the final learned weights\n"
   ]
  },
  {
   "cell_type": "code",
   "execution_count": 1,
   "metadata": {
    "tags": [
     "pdf-ignore"
    ]
   },
   "outputs": [],
   "source": [
    "import random\n",
    "import numpy as np\n",
    "from cs231n.data_utils import load_CIFAR10\n",
    "import matplotlib.pyplot as plt\n",
    "\n",
    "%matplotlib inline\n",
    "plt.rcParams['figure.figsize'] = (10.0, 8.0) # set default size of plots\n",
    "plt.rcParams['image.interpolation'] = 'nearest'\n",
    "plt.rcParams['image.cmap'] = 'gray'\n",
    "\n",
    "# for auto-reloading extenrnal modules\n",
    "# see http://stackoverflow.com/questions/1907993/autoreload-of-modules-in-ipython\n",
    "%load_ext autoreload\n",
    "%autoreload 2"
   ]
  },
  {
   "cell_type": "code",
   "execution_count": 2,
   "metadata": {
    "tags": [
     "pdf-ignore"
    ]
   },
   "outputs": [
    {
     "name": "stdout",
     "output_type": "stream",
     "text": [
      "Train data shape:  (49000, 3073)\n",
      "Train labels shape:  (49000,)\n",
      "Validation data shape:  (1000, 3073)\n",
      "Validation labels shape:  (1000,)\n",
      "Test data shape:  (1000, 3073)\n",
      "Test labels shape:  (1000,)\n",
      "dev data shape:  (500, 3073)\n",
      "dev labels shape:  (500,)\n"
     ]
    }
   ],
   "source": [
    "def get_CIFAR10_data(num_training=49000, num_validation=1000, num_test=1000, num_dev=500):\n",
    "    \"\"\"\n",
    "    Load the CIFAR-10 dataset from disk and perform preprocessing to prepare\n",
    "    it for the linear classifier. These are the same steps as we used for the\n",
    "    SVM, but condensed to a single function.  \n",
    "    \"\"\"\n",
    "    # Load the raw CIFAR-10 data\n",
    "    cifar10_dir = 'cs231n/datasets/cifar-10-batches-py'\n",
    "    \n",
    "    # Cleaning up variables to prevent loading data multiple times (which may cause memory issue)\n",
    "    try:\n",
    "       del X_train, y_train\n",
    "       del X_test, y_test\n",
    "       print('Clear previously loaded data.')\n",
    "    except:\n",
    "       pass\n",
    "\n",
    "    X_train, y_train, X_test, y_test = load_CIFAR10(cifar10_dir)\n",
    "    \n",
    "    # subsample the data\n",
    "    mask = list(range(num_training, num_training + num_validation))\n",
    "    X_val = X_train[mask]\n",
    "    y_val = y_train[mask]\n",
    "    mask = list(range(num_training))\n",
    "    X_train = X_train[mask]\n",
    "    y_train = y_train[mask]\n",
    "    mask = list(range(num_test))\n",
    "    X_test = X_test[mask]\n",
    "    y_test = y_test[mask]\n",
    "    mask = np.random.choice(num_training, num_dev, replace=False)\n",
    "    X_dev = X_train[mask]\n",
    "    y_dev = y_train[mask]\n",
    "    \n",
    "    # Preprocessing: reshape the image data into rows\n",
    "    X_train = np.reshape(X_train, (X_train.shape[0], -1))\n",
    "    X_val = np.reshape(X_val, (X_val.shape[0], -1))\n",
    "    X_test = np.reshape(X_test, (X_test.shape[0], -1))\n",
    "    X_dev = np.reshape(X_dev, (X_dev.shape[0], -1))\n",
    "    \n",
    "    # Normalize the data: subtract the mean image\n",
    "    mean_image = np.mean(X_train, axis = 0)\n",
    "    X_train -= mean_image\n",
    "    X_val -= mean_image\n",
    "    X_test -= mean_image\n",
    "    X_dev -= mean_image\n",
    "    \n",
    "    # add bias dimension and transform into columns\n",
    "    X_train = np.hstack([X_train, np.ones((X_train.shape[0], 1))])\n",
    "    X_val = np.hstack([X_val, np.ones((X_val.shape[0], 1))])\n",
    "    X_test = np.hstack([X_test, np.ones((X_test.shape[0], 1))])\n",
    "    X_dev = np.hstack([X_dev, np.ones((X_dev.shape[0], 1))])\n",
    "    \n",
    "    return X_train, y_train, X_val, y_val, X_test, y_test, X_dev, y_dev\n",
    "\n",
    "\n",
    "# Invoke the above function to get our data.\n",
    "X_train, y_train, X_val, y_val, X_test, y_test, X_dev, y_dev = get_CIFAR10_data()\n",
    "print('Train data shape: ', X_train.shape)\n",
    "print('Train labels shape: ', y_train.shape)\n",
    "print('Validation data shape: ', X_val.shape)\n",
    "print('Validation labels shape: ', y_val.shape)\n",
    "print('Test data shape: ', X_test.shape)\n",
    "print('Test labels shape: ', y_test.shape)\n",
    "print('dev data shape: ', X_dev.shape)\n",
    "print('dev labels shape: ', y_dev.shape)"
   ]
  },
  {
   "cell_type": "markdown",
   "metadata": {},
   "source": [
    "## Softmax Classifier\n",
    "\n",
    "Your code for this section will all be written inside `cs231n/classifiers/softmax.py`.\n"
   ]
  },
  {
   "cell_type": "code",
   "execution_count": 4,
   "metadata": {},
   "outputs": [
    {
     "name": "stdout",
     "output_type": "stream",
     "text": [
      "loss: 2.357106\n",
      "sanity check: 2.302585\n"
     ]
    }
   ],
   "source": [
    "# First implement the naive softmax loss function with nested loops.\n",
    "# Open the file cs231n/classifiers/softmax.py and implement the\n",
    "# softmax_loss_naive function.\n",
    "\n",
    "from cs231n.classifiers.softmax import softmax_loss_naive\n",
    "import time\n",
    "\n",
    "# Generate a random softmax weight matrix and use it to compute the loss.\n",
    "W = np.random.randn(3073, 10) * 0.0001\n",
    "loss, grad = softmax_loss_naive(W, X_dev, y_dev, 0.0)\n",
    "\n",
    "# As a rough sanity check, our loss should be something close to -log(0.1).\n",
    "print('loss: %f' % loss)\n",
    "print('sanity check: %f' % (-np.log(0.1)))"
   ]
  },
  {
   "cell_type": "markdown",
   "metadata": {
    "tags": [
     "pdf-inline"
    ]
   },
   "source": [
    "**Inline Question 1**\n",
    "\n",
    "Why do we expect our loss to be close to -log(0.1)? Explain briefly.**\n",
    "\n",
    "$\\color{blue}{\\textit Your Answer:}$ As W is almost zero, the scores are almost zero. The exponential values are 1, and the probability of the correct class is about 0.1.\n",
    "\n"
   ]
  },
  {
   "cell_type": "code",
   "execution_count": 15,
   "metadata": {},
   "outputs": [
    {
     "name": "stdout",
     "output_type": "stream",
     "text": [
      "numerical: 1.149682 analytic: 1.149682, relative error: 1.264493e-08\n",
      "numerical: 2.897841 analytic: 2.897841, relative error: 3.230869e-08\n",
      "numerical: 2.346066 analytic: 2.346066, relative error: 7.931665e-09\n",
      "numerical: 0.630164 analytic: 0.630164, relative error: 7.184680e-08\n",
      "numerical: 0.044390 analytic: 0.044390, relative error: 5.804541e-07\n",
      "numerical: -1.176178 analytic: -1.176178, relative error: 4.711438e-08\n",
      "numerical: -1.716482 analytic: -1.716482, relative error: 9.502893e-09\n",
      "numerical: 1.524566 analytic: 1.524566, relative error: 2.577559e-08\n",
      "numerical: -4.117471 analytic: -4.117471, relative error: 9.134977e-09\n",
      "numerical: 0.027267 analytic: 0.027267, relative error: 8.865579e-07\n",
      "numerical: -0.694414 analytic: -0.694414, relative error: 9.345226e-08\n",
      "numerical: -3.064294 analytic: -3.064294, relative error: 3.370655e-08\n",
      "numerical: 0.301732 analytic: 0.301732, relative error: 3.372625e-07\n",
      "numerical: -1.765311 analytic: -1.765311, relative error: 1.052608e-11\n",
      "numerical: -0.696713 analytic: -0.696713, relative error: 2.604020e-08\n",
      "numerical: -0.995935 analytic: -0.995935, relative error: 9.038913e-10\n",
      "numerical: -0.431242 analytic: -0.431242, relative error: 3.691408e-09\n",
      "numerical: -1.242395 analytic: -1.242395, relative error: 9.844768e-09\n",
      "numerical: -1.317693 analytic: -1.317693, relative error: 2.643128e-09\n",
      "numerical: 0.521868 analytic: 0.521868, relative error: 9.773572e-08\n"
     ]
    }
   ],
   "source": [
    "# Complete the implementation of softmax_loss_naive and implement a (naive)\n",
    "# version of the gradient that uses nested loops.\n",
    "loss, grad = softmax_loss_naive(W, X_dev, y_dev, 0.0)\n",
    "\n",
    "# As we did for the SVM, use numeric gradient checking as a debugging tool.\n",
    "# The numeric gradient should be close to the analytic gradient.\n",
    "from cs231n.gradient_check import grad_check_sparse\n",
    "f = lambda w: softmax_loss_naive(w, X_dev, y_dev, 0.0)[0]\n",
    "grad_numerical = grad_check_sparse(f, W, grad, 10)\n",
    "\n",
    "# similar to SVM case, do another gradient check with regularization\n",
    "loss, grad = softmax_loss_naive(W, X_dev, y_dev, 5e1)\n",
    "f = lambda w: softmax_loss_naive(w, X_dev, y_dev, 5e1)[0]\n",
    "grad_numerical = grad_check_sparse(f, W, grad, 10)"
   ]
  },
  {
   "cell_type": "code",
   "execution_count": 21,
   "metadata": {},
   "outputs": [
    {
     "name": "stdout",
     "output_type": "stream",
     "text": [
      "naive loss: 2.357106e+00 computed in 0.024980s\n",
      "vectorized loss: 2.357106e+00 computed in 0.000000s\n",
      "Loss difference: 0.000000\n",
      "Gradient difference: 0.000000\n"
     ]
    }
   ],
   "source": [
    "# Now that we have a naive implementation of the softmax loss function and its gradient,\n",
    "# implement a vectorized version in softmax_loss_vectorized.\n",
    "# The two versions should compute the same results, but the vectorized version should be\n",
    "# much faster.\n",
    "tic = time.time()\n",
    "loss_naive, grad_naive = softmax_loss_naive(W, X_dev, y_dev, 0.000005)\n",
    "toc = time.time()\n",
    "print('naive loss: %e computed in %fs' % (loss_naive, toc - tic))\n",
    "\n",
    "from cs231n.classifiers.softmax import softmax_loss_vectorized\n",
    "tic = time.time()\n",
    "loss_vectorized, grad_vectorized = softmax_loss_vectorized(W, X_dev, y_dev, 0.000005)\n",
    "toc = time.time()\n",
    "print('vectorized loss: %e computed in %fs' % (loss_vectorized, toc - tic))\n",
    "\n",
    "# As we did for the SVM, we use the Frobenius norm to compare the two versions\n",
    "# of the gradient.\n",
    "grad_difference = np.linalg.norm(grad_naive - grad_vectorized, ord='fro')\n",
    "print('Loss difference: %f' % np.abs(loss_naive - loss_vectorized))\n",
    "print('Gradient difference: %f' % grad_difference)"
   ]
  },
  {
   "cell_type": "code",
   "execution_count": 23,
   "metadata": {
    "id": "tuning",
    "tags": [
     "code"
    ]
   },
   "outputs": [
    {
     "name": "stdout",
     "output_type": "stream",
     "text": [
      "run - lr: 2.000000e-08, rs: 5.000000e+03\n",
      "run - lr: 2.000000e-08, rs: 1.000000e+04\n",
      "run - lr: 2.000000e-08, rs: 2.500000e+04\n",
      "run - lr: 2.000000e-08, rs: 5.000000e+04\n",
      "run - lr: 2.000000e-08, rs: 1.000000e+05\n",
      "run - lr: 5.000000e-08, rs: 5.000000e+03\n",
      "run - lr: 5.000000e-08, rs: 1.000000e+04\n",
      "run - lr: 5.000000e-08, rs: 2.500000e+04\n",
      "run - lr: 5.000000e-08, rs: 5.000000e+04\n",
      "run - lr: 5.000000e-08, rs: 1.000000e+05\n",
      "run - lr: 1.000000e-07, rs: 5.000000e+03\n",
      "run - lr: 1.000000e-07, rs: 1.000000e+04\n",
      "run - lr: 1.000000e-07, rs: 2.500000e+04\n",
      "run - lr: 1.000000e-07, rs: 5.000000e+04\n",
      "run - lr: 1.000000e-07, rs: 1.000000e+05\n",
      "run - lr: 2.000000e-07, rs: 5.000000e+03\n",
      "run - lr: 2.000000e-07, rs: 1.000000e+04\n",
      "run - lr: 2.000000e-07, rs: 2.500000e+04\n",
      "run - lr: 2.000000e-07, rs: 5.000000e+04\n",
      "run - lr: 2.000000e-07, rs: 1.000000e+05\n",
      "run - lr: 5.000000e-07, rs: 5.000000e+03\n",
      "run - lr: 5.000000e-07, rs: 1.000000e+04\n",
      "run - lr: 5.000000e-07, rs: 2.500000e+04\n",
      "run - lr: 5.000000e-07, rs: 5.000000e+04\n",
      "run - lr: 5.000000e-07, rs: 1.000000e+05\n",
      "run - lr: 1.000000e-06, rs: 5.000000e+03\n",
      "run - lr: 1.000000e-06, rs: 1.000000e+04\n",
      "run - lr: 1.000000e-06, rs: 2.500000e+04\n",
      "run - lr: 1.000000e-06, rs: 5.000000e+04\n",
      "run - lr: 1.000000e-06, rs: 1.000000e+05\n",
      "lr 2.000000e-08 reg 5.000000e+03 train accuracy: 0.198082 val accuracy: 0.211000\n",
      "lr 2.000000e-08 reg 1.000000e+04 train accuracy: 0.199510 val accuracy: 0.200000\n",
      "lr 2.000000e-08 reg 2.500000e+04 train accuracy: 0.251347 val accuracy: 0.255000\n",
      "lr 2.000000e-08 reg 5.000000e+04 train accuracy: 0.293735 val accuracy: 0.327000\n",
      "lr 2.000000e-08 reg 1.000000e+05 train accuracy: 0.288612 val accuracy: 0.307000\n",
      "lr 5.000000e-08 reg 5.000000e+03 train accuracy: 0.253388 val accuracy: 0.276000\n",
      "lr 5.000000e-08 reg 1.000000e+04 train accuracy: 0.295245 val accuracy: 0.284000\n",
      "lr 5.000000e-08 reg 2.500000e+04 train accuracy: 0.329429 val accuracy: 0.339000\n",
      "lr 5.000000e-08 reg 5.000000e+04 train accuracy: 0.308184 val accuracy: 0.321000\n",
      "lr 5.000000e-08 reg 1.000000e+05 train accuracy: 0.282837 val accuracy: 0.297000\n",
      "lr 1.000000e-07 reg 5.000000e+03 train accuracy: 0.331592 val accuracy: 0.346000\n",
      "lr 1.000000e-07 reg 1.000000e+04 train accuracy: 0.348245 val accuracy: 0.362000\n",
      "lr 1.000000e-07 reg 2.500000e+04 train accuracy: 0.321061 val accuracy: 0.332000\n",
      "lr 1.000000e-07 reg 5.000000e+04 train accuracy: 0.311122 val accuracy: 0.329000\n",
      "lr 1.000000e-07 reg 1.000000e+05 train accuracy: 0.287653 val accuracy: 0.301000\n",
      "lr 2.000000e-07 reg 5.000000e+03 train accuracy: 0.369776 val accuracy: 0.373000\n",
      "lr 2.000000e-07 reg 1.000000e+04 train accuracy: 0.355184 val accuracy: 0.371000\n",
      "lr 2.000000e-07 reg 2.500000e+04 train accuracy: 0.329673 val accuracy: 0.346000\n",
      "lr 2.000000e-07 reg 5.000000e+04 train accuracy: 0.308347 val accuracy: 0.325000\n",
      "lr 2.000000e-07 reg 1.000000e+05 train accuracy: 0.298612 val accuracy: 0.306000\n",
      "lr 5.000000e-07 reg 5.000000e+03 train accuracy: 0.369816 val accuracy: 0.383000\n",
      "lr 5.000000e-07 reg 1.000000e+04 train accuracy: 0.358755 val accuracy: 0.364000\n",
      "lr 5.000000e-07 reg 2.500000e+04 train accuracy: 0.323102 val accuracy: 0.337000\n",
      "lr 5.000000e-07 reg 5.000000e+04 train accuracy: 0.317102 val accuracy: 0.326000\n",
      "lr 5.000000e-07 reg 1.000000e+05 train accuracy: 0.286776 val accuracy: 0.297000\n",
      "lr 1.000000e-06 reg 5.000000e+03 train accuracy: 0.370571 val accuracy: 0.380000\n",
      "lr 1.000000e-06 reg 1.000000e+04 train accuracy: 0.347388 val accuracy: 0.358000\n",
      "lr 1.000000e-06 reg 2.500000e+04 train accuracy: 0.316776 val accuracy: 0.314000\n",
      "lr 1.000000e-06 reg 5.000000e+04 train accuracy: 0.276143 val accuracy: 0.281000\n",
      "lr 1.000000e-06 reg 1.000000e+05 train accuracy: 0.270878 val accuracy: 0.285000\n",
      "best validation accuracy achieved during cross-validation: 0.383000\n"
     ]
    }
   ],
   "source": [
    "# Use the validation set to tune hyperparameters (regularization strength and\n",
    "# learning rate). You should experiment with different ranges for the learning\n",
    "# rates and regularization strengths; if you are careful you should be able to\n",
    "# get a classification accuracy of over 0.35 on the validation set.\n",
    "\n",
    "from cs231n.classifiers import Softmax\n",
    "results = {}\n",
    "best_val = -1\n",
    "best_softmax = None\n",
    "\n",
    "################################################################################\n",
    "# TODO:                                                                        #\n",
    "# Use the validation set to set the learning rate and regularization strength. #\n",
    "# This should be identical to the validation that you did for the SVM; save    #\n",
    "# the best trained softmax classifer in best_softmax.                          #\n",
    "################################################################################\n",
    "\n",
    "# Provided as a reference. You may or may not want to change these hyperparameters\n",
    "learning_rates = [2e-8, 5e-8, 1e-7, 2e-7, 5e-7, 1e-6]\n",
    "regularization_strengths = [5e3, 1e4, 2.5e4, 5e4, 1e5]\n",
    "\n",
    "# *****START OF YOUR CODE (DO NOT DELETE/MODIFY THIS LINE)*****\n",
    "\n",
    "from itertools import product\n",
    "\n",
    "num_iters = 1500\n",
    "for lr, rs in product(learning_rates, regularization_strengths):\n",
    "    print(f\"run - lr: {lr:e}, rs: {rs:e}\")\n",
    "    softmax = Softmax()\n",
    "    softmax.train(X_train, y_train, lr, rs, num_iters)\n",
    "    y_train_pred = softmax.predict(X_train)\n",
    "    y_val_pred = softmax.predict(X_val)\n",
    "    train_accuracy = np.mean(y_train == y_train_pred)\n",
    "    val_accuracy = np.mean(y_val == y_val_pred)\n",
    "    \n",
    "    results[(lr, rs)] = train_accuracy, val_accuracy\n",
    "    if val_accuracy > best_val:\n",
    "        best_val = val_accuracy\n",
    "        best_softmax = softmax\n",
    "\n",
    "# *****END OF YOUR CODE (DO NOT DELETE/MODIFY THIS LINE)*****\n",
    "    \n",
    "# Print out results.\n",
    "for lr, reg in sorted(results):\n",
    "    train_accuracy, val_accuracy = results[(lr, reg)]\n",
    "    print('lr %e reg %e train accuracy: %f val accuracy: %f' % (\n",
    "                lr, reg, train_accuracy, val_accuracy))\n",
    "    \n",
    "print('best validation accuracy achieved during cross-validation: %f' % best_val)"
   ]
  },
  {
   "cell_type": "code",
   "execution_count": null,
   "metadata": {
    "id": "test"
   },
   "outputs": [],
   "source": [
    "# evaluate on test set\n",
    "# Evaluate the best softmax on test set\n",
    "y_test_pred = best_softmax.predict(X_test)\n",
    "test_accuracy = np.mean(y_test == y_test_pred)\n",
    "print('softmax on raw pixels final test set accuracy: %f' % (test_accuracy, ))"
   ]
  },
  {
   "cell_type": "markdown",
   "metadata": {
    "tags": [
     "pdf-inline"
    ]
   },
   "source": [
    "**Inline Question 2** - *True or False*\n",
    "\n",
    "Suppose the overall training loss is defined as the sum of the per-datapoint loss over all training examples. It is possible to add a new datapoint to a training set that would leave the SVM loss unchanged, but this is not the case with the Softmax classifier loss.\n",
    "\n",
    "$\\color{blue}{\\textit Your Answer:}$ True\n",
    "\n",
    "\n",
    "$\\color{blue}{\\textit Your Explanation:}$ Because the SVM loss is calculated by the margin, it is possible that a datapoint doesn't have any loss when it doesn't go over that margin. Whereas, because softmax is always differentiable and has no zero gradient, all datapoint  have non zero loss. \n",
    "\n"
   ]
  },
  {
   "cell_type": "code",
   "execution_count": 24,
   "metadata": {},
   "outputs": [
    {
     "data": {
      "image/png": "[encoded data removed]",
      "text/plain": [
       "<Figure size 720x576 with 10 Axes>"
      ]
     },
     "metadata": {
      "needs_background": "light"
     },
     "output_type": "display_data"
    }
   ],
   "source": [
    "# Visualize the learned weights for each class\n",
    "w = best_softmax.W[:-1,:] # strip out the bias\n",
    "w = w.reshape(32, 32, 3, 10)\n",
    "\n",
    "w_min, w_max = np.min(w), np.max(w)\n",
    "\n",
    "classes = ['plane', 'car', 'bird', 'cat', 'deer', 'dog', 'frog', 'horse', 'ship', 'truck']\n",
    "for i in range(10):\n",
    "    plt.subplot(2, 5, i + 1)\n",
    "    \n",
    "    # Rescale the weights to be between 0 and 255\n",
    "    wimg = 255.0 * (w[:, :, :, i].squeeze() - w_min) / (w_max - w_min)\n",
    "    plt.imshow(wimg.astype('uint8'))\n",
    "    plt.axis('off')\n",
    "    plt.title(classes[i])"
   ]
  },
  {
   "cell_type": "code",
   "execution_count": null,
   "metadata": {},
   "outputs": [],
   "source": []
  }
 ],
 "metadata": {
  "kernelspec": {
   "display_name": "Python 3",
   "language": "python",
   "name": "python3"
  },
  "language_info": {
   "codemirror_mode": {
    "name": "ipython",
    "version": 3
   },
   "file_extension": ".py",
   "mimetype": "text/x-python",
   "name": "python",
   "nbconvert_exporter": "python",
   "pygments_lexer": "ipython3",
   "version": "3.8.8"
  }
 },
 "nbformat": 4,
 "nbformat_minor": 4
}
